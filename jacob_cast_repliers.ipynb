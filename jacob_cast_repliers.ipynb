{
 "cells": [
  {
   "cell_type": "markdown",
   "id": "81b0d9ae-e0ca-4d44-9438-64e0a97f6481",
   "metadata": {},
   "source": [
    "# Get list of addresses ( end user addresses NOT farcaster addresses) who replied to a cast"
   ]
  },
  {
   "cell_type": "markdown",
   "id": "07d0009f-059b-4c59-87ea-4a3090a33f70",
   "metadata": {},
   "source": [
    "Note: this notebook hits the FC API ... don't try this at home"
   ]
  },
  {
   "cell_type": "code",
   "execution_count": 3,
   "id": "511e4dcb-777d-46ac-aea7-7e03f48b72c8",
   "metadata": {},
   "outputs": [],
   "source": [
    "CAST_MERKLE_ROOT = \"0x2e23208030cebbe7d381f81e2f967cdc13d7d49b583e1bc41659bfb9c12d15ef\"\n",
    "VIEWER_ADDRESS = \"0x0000000000000000000000000000000000000000\""
   ]
  },
  {
   "cell_type": "code",
   "execution_count": 30,
   "id": "add49667-e739-403e-84f6-f81dc63417c5",
   "metadata": {},
   "outputs": [],
   "source": [
    "import json\n",
    "import requests\n",
    "from tqdm import tqdm "
   ]
  },
  {
   "cell_type": "code",
   "execution_count": 37,
   "id": "60082d73-9a4d-449e-9988-51b191025cc6",
   "metadata": {},
   "outputs": [],
   "source": [
    "cast_and_responses = list(map(lambda x: x['body'], requests.get(f'https://api.farcaster.xyz/indexer/threads/{CAST_MERKLE_ROOT}?viewer_address={VIEWER_ADDRESS}').json()['result']))"
   ]
  },
  {
   "cell_type": "code",
   "execution_count": 38,
   "id": "573288ba-c643-474e-8361-21c37a51e184",
   "metadata": {},
   "outputs": [],
   "source": [
    "username_to_fc_address = {}\n",
    "\n",
    "for response in cast_and_responses[1:]:\n",
    "    if response['data']['replyParentMerkleRoot'] != CAST_MERKLE_ROOT:\n",
    "        continue\n",
    "    username_to_fc_address[response['username']] = response['address']"
   ]
  },
  {
   "cell_type": "code",
   "execution_count": 39,
   "id": "b72fb2b4-f286-4721-b6a5-0a75c46b5003",
   "metadata": {},
   "outputs": [],
   "source": [
    "def fc_addr_to_end_user_address(fc_addr: str) -> str:\n",
    "    return requests.get(f\"https://api.farcaster.xyz/v1/verified_addresses/{fc_addr}\").json()['result']['verifiedAddresses'][0]['signerAddress']\n",
    "    "
   ]
  },
  {
   "cell_type": "code",
   "execution_count": 40,
   "id": "4c58b39b-678b-4b7f-8142-73c34d118209",
   "metadata": {
    "tags": []
   },
   "outputs": [
    {
     "name": "stderr",
     "output_type": "stream",
     "text": [
      "100%|██████████| 63/63 [00:18<00:00,  3.35it/s]\n"
     ]
    }
   ],
   "source": [
    "username_to_end_user_address = {}\n",
    "\n",
    "for username, fc_addr in tqdm(list(username_to_fc_address.items())):\n",
    "     username_to_end_user_address[username] = fc_addr_to_end_user_address(fc_addr)"
   ]
  },
  {
   "cell_type": "markdown",
   "id": "060b7bf1-d8c7-454a-836c-f5a2b386e514",
   "metadata": {},
   "source": [
    "# Raw Replier Addresses "
   ]
  },
  {
   "cell_type": "markdown",
   "id": "e64963de-5693-4bb3-87d3-038f7ac752ed",
   "metadata": {},
   "source": [
    "Note: this only counts top level replies. Replies to replies are intentionally excluded."
   ]
  },
  {
   "cell_type": "code",
   "execution_count": 41,
   "id": "ce8ab002-2699-4637-8d6b-2bae7435d9bf",
   "metadata": {},
   "outputs": [
    {
     "name": "stdout",
     "output_type": "stream",
     "text": [
      "0x33fc2bE5563e3c02a3e127F01Bbd71Db472Aa613\n",
      "0x789E8DD02FfCCd7A753B048559d4FBeA1e1a1b7c\n",
      "0xe5E4B1EC4061d6fC932207DFc5CF96bD27FB11Da\n",
      "0xEB95ff72EAb9e8D8fdb545FE15587AcCF410b42E\n",
      "0xCa9129Df981CE67467EfaDB29BF2E930ACF59D0A\n",
      "0xfF51cc1519c7a61144d3FF6F883122f150752445\n",
      "0x333d0EBc54707c0a9D92caC749B3094c28a0E111\n",
      "0x4C9E84DF0060242f32AEF4D792080a167DFf7937\n",
      "0x29BBb2014ac9C1E73CE88F6Be44bE8Da900f9758\n",
      "0x5fCDeB1f83cB55030D96F9008BB271887da8785d\n",
      "0xcEd09CCFc82b091195bdE04E6Cd65374518E7b95\n",
      "0xb8Bc27e04b5c563c8D534F1834Ee9b1b18920142\n",
      "0x93ec6b8Df79341eC8509027320924021ECD536E3\n",
      "0x7b994E111Cd89c9391bE815Fa6Fcd6ef2abFD053\n",
      "0x4A321d9AD33d7a48d6900229372e878F0eD74DC7\n",
      "0xcF8e7573894CB97D2589EFdaF04cf65b8ad94cD9\n",
      "0x0638269c545bb0a7D31407937e37AeD44d86eF9F\n",
      "0xe62d071Ea99A63798Fec7222c483c53e87F2A32E\n",
      "0x52fF89d20e24e2a0Bd853567f6a1AD423FE13234\n",
      "0x0C71557b4aD81E07034DD9C04E232f17BB0B4Aa3\n",
      "0xD7029BDEa1c17493893AAfE29AAD69EF892B8ff2\n",
      "0x98397A068d413D3C92A506f98c5F25D33A9DAc14\n",
      "0xFEC0Ad833FB7D20A83E373279f37c88159bAd99E\n",
      "0x82F402847051BDdAAb0f5D4b481417281837c424\n",
      "0x26439aEB008d63B6686798b5F08a84C7AbeFbd80\n",
      "0x3682FC5a296b378587cA9CFC31682F61bC21e58a\n",
      "0x069a763F2F523ca45Bc63175b57C0955f3cD53aF\n",
      "0xfB843f8c4992EfDb6b42349C35f025ca55742D33\n",
      "0xCdc5929e1158F7f0B320e3B942528E6998D8b25c\n",
      "0x738F268Aa2d339787Ccc403D2B8ce3ae3bCad09E\n",
      "0x216e4fCD00297108782ab6fe56f3A48caD2ef3A4\n",
      "0x3af2910134EC79E599866F7F8Ee6aa1b949D4b03\n",
      "0xd26b76e50f6510cdD4bf45d59279705f36946d23\n",
      "0x80A32851a6cAA6A6126e2F4e5d50aAf3d4bcF40b\n",
      "0x04bfb0034F24E424489F566f32D1f57647469f9E\n",
      "0x18B7511938FBe2EE08ADf3d4A24edB00A5C9B783\n",
      "0xC974D94fed452745Ec41653d6C73de82005A0473\n",
      "0x84ec2c64F610d94c1Cd16883Fcd6F66125298B02\n",
      "0x16D47b5D3Eb6f0dccF067aAC3Bba8129fA0Bc147\n",
      "0x18C5eA5B6441D99d621cEC21e9c034d97124d267\n",
      "0x4492eCACB5da5D933af0e55eEDad4383BF8D2dB5\n",
      "0x784FA0c3C12aEe8f571EF3c91408cb2219B431dC\n",
      "0xA0C47731409ae8757adB389c96D04DA19Fd3C3e4\n",
      "0x1BCCC3DC32d6977CA14bEFf7a2130F578620CDB3\n",
      "0x66782E5a061B5A63536f912380A6dcf9481900C7\n",
      "0x0885F0e1a641F08416536e3921C30c5D9dC9c0f4\n",
      "0xBce6053B60C5913f4190C95F629f473BE0E379Aa\n",
      "0xD9426265b80E47E3B5b6e3A5225602B68f32316C\n",
      "0x21c6553a199A9c794aA77Ae8a8D80751dFCdC0D1\n",
      "0x640D6B7D4C1998F38A3cB1aB4ea86Af1BEF245B2\n",
      "0xaC3357599FbFE80C24908a1DC00FF8323745aea5\n",
      "0x3B3525F60eeea4a1eF554df5425912c2a532875D\n",
      "0xdAa83039ACA9a33b2e54bb2acC9f9c3A99357618\n",
      "0xD5F7818b117193509382E734c9C4EBB517461B9a\n",
      "0x2f5DE40934f6cFFbb01Ea251B78c6E2437054098\n",
      "0xD92Ab6f7f9835806820fFAc6b6Cfa012472E0497\n",
      "0x429f42fB5247e3a34D88D978b7491d4b2BEe6105\n",
      "0x14B85b1c40056312fde55E1Fa1827a92F12B966A\n",
      "0x1a72df5a2A700753e04521A551a1dFcBC8c2e348\n",
      "0x6426996c5d8411b191C9eE2d4Fc5d619C115A972\n",
      "0xA1c0b11B86A46885B87c7ed68b91FAa0C349e1cD\n",
      "0x24a35c90067AcD020ea2839dF9aC49659CcE3acD\n",
      "0x0a2F3020D266A54Fa8F0f72fd448969f74602222\n"
     ]
    }
   ],
   "source": [
    "for a in username_to_end_user_address.values():\n",
    "    print(a)"
   ]
  },
  {
   "cell_type": "code",
   "execution_count": null,
   "id": "8b2d851c-1be2-4c9c-98a5-7cfcc6d8961a",
   "metadata": {},
   "outputs": [],
   "source": []
  }
 ],
 "metadata": {
  "kernelspec": {
   "display_name": "Python 3",
   "language": "python",
   "name": "python3"
  },
  "language_info": {
   "codemirror_mode": {
    "name": "ipython",
    "version": 3
   },
   "file_extension": ".py",
   "mimetype": "text/x-python",
   "name": "python",
   "nbconvert_exporter": "python",
   "pygments_lexer": "ipython3",
   "version": "3.9.2"
  }
 },
 "nbformat": 4,
 "nbformat_minor": 5
}
