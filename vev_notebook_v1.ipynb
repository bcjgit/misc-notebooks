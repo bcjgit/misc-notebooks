{
 "cells": [
  {
   "cell_type": "markdown",
   "id": "e874f228-4a5e-4cbe-a95e-d02bb051436c",
   "metadata": {},
   "source": [
    "## Quick and dirty VEV notebook\n",
    "\n",
    "by Brian"
   ]
  },
  {
   "cell_type": "code",
   "execution_count": 17,
   "id": "e567d8f1-eb71-44bb-9d5b-bddd81c4b010",
   "metadata": {},
   "outputs": [],
   "source": [
    "from typing import Dict\n",
    "from random import randrange\n",
    "from tqdm import tqdm\n",
    "import numpy as np\n",
    "import random"
   ]
  },
  {
   "cell_type": "markdown",
   "id": "cc1b0569-3925-4681-88de-286f147c50ae",
   "metadata": {},
   "source": [
    "### Notebook params"
   ]
  },
  {
   "cell_type": "code",
   "execution_count": 18,
   "id": "0fab0c52-f680-4007-9964-d6c88099b413",
   "metadata": {},
   "outputs": [],
   "source": [
    "PROP_COST_ETH = 10\n",
    "NUM_VOTES_BOUGHT = 2\n",
    "TOTAL_VOTE_COST_ETH = 5\n",
    "TOTAL_SUPPLY = 10"
   ]
  },
  {
   "cell_type": "markdown",
   "id": "a9aa131b-312b-4e09-9295-46c899975e82",
   "metadata": {},
   "source": [
    "---"
   ]
  },
  {
   "cell_type": "markdown",
   "id": "05fc8f04-bad8-4f6f-ba6d-c493c0b3c2a3",
   "metadata": {},
   "source": [
    "**Vote data has the following schema:**\n",
    "\n",
    "```\n",
    "{\n",
    "    vote_weight: int,\n",
    "    p_vote: [pFor, pAgainst, pAbstain]: float[] (must sum to 1 as it's a probability distribution),\n",
    "    turnout_prob: float (how likly this voter is to actually vote)\n",
    "}\n",
    "```"
   ]
  },
  {
   "cell_type": "markdown",
   "id": "d0affa8c-9f9d-427c-87c6-d0c68ac7ca2a",
   "metadata": {},
   "source": [
    "### Toy example"
   ]
  },
  {
   "cell_type": "code",
   "execution_count": 24,
   "id": "d4fafb42-5d49-4ccb-8f56-0eb8ea7ad810",
   "metadata": {},
   "outputs": [],
   "source": [
    "\n",
    "# state of the world if you did not buy votes\n",
    "vote_state_counterfactual = [\n",
    "    {\n",
    "        \"vote_weight\": 5,\n",
    "        \"p_vote\": [.5, .3, .2],\n",
    "        \"turnout_prob\": .8\n",
    "    },\n",
    "    {\n",
    "        \"vote_weight\": 4,\n",
    "        \"p_vote\": [.1, .8, .1],\n",
    "        \"turnout_prob\": .8\n",
    "    },\n",
    "    {\n",
    "        \"vote_weight\": 2,\n",
    "        \"p_vote\": [.3, .3, .4],\n",
    "        \"turnout_prob\": .01\n",
    "    }\n",
    "]\n",
    "\n",
    "# state of the world if you do buy votes\n",
    "# NOTE: difference here is (by assumption for the sake of the model) that you take a 0 probability of vote \n",
    "# voter and make them now a 1 with a fixed (always vote yes) vote distibuion\n",
    "vote_state_vev = [\n",
    "       {\n",
    "        \"vote_weight\": 5,\n",
    "        \"p_vote\": [.5, .3, .2],\n",
    "        \"turnout_prob\": .8\n",
    "    },\n",
    "    {\n",
    "        \"vote_weight\": 4,\n",
    "        \"p_vote\": [.1, .8, .1],\n",
    "        \"turnout_prob\": .8\n",
    "    },\n",
    "    # YOU BOUGHT THESE TWO VOTES\n",
    "    {\n",
    "        \"vote_weight\": 2,\n",
    "        \"p_vote\": [1, 0, 0],\n",
    "        \"turnout_prob\": 1\n",
    "    }\n",
    "]"
   ]
  },
  {
   "cell_type": "code",
   "execution_count": 25,
   "id": "a5744a25-8875-4c67-86a0-bdb9cc5a66f7",
   "metadata": {},
   "outputs": [],
   "source": [
    "DQ_PARAMS = {\n",
    "    \"minQuorumVotesBPS\": 1000,\n",
    "    \"maxQuorumVotesBPS\": 1500,\n",
    "    \"quorumCoefficient\": 1000000\n",
    "}\n",
    "def bps2Uint(quorum_bps: int, total_supply: int) -> int:\n",
    "    return (total_supply * quorum_bps) / 10000\n",
    "\n",
    "def vote_win_function(total_supply: int, against_votes: int, DQ_PARAMS: Dict[str, int] ) -> int:\n",
    "    againstVotesBPS = (10000 * against_votes) / total_supply;\n",
    "    quorumAdjustmentBPS = (DQ_PARAMS['quorumCoefficient'] * againstVotesBPS) / 1e6;\n",
    "    adjustedQuorumBPS = DQ_PARAMS[\"minQuorumVotesBPS\"] + quorumAdjustmentBPS\n",
    "    quorumBPS = min(DQ_PARAMS[\"maxQuorumVotesBPS\"], adjustedQuorumBPS)\n",
    "    return bps2Uint(quorumBPS, total_supply)"
   ]
  },
  {
   "cell_type": "code",
   "execution_count": 26,
   "id": "5f9a4805-359e-49fa-b8ea-2fb694100ea8",
   "metadata": {},
   "outputs": [],
   "source": [
    "def simulate_vote_outcome(\n",
    "    total_supply,\n",
    "    voter_info\n",
    "):\n",
    "    N_SAMP = 1000\n",
    "    outcomes = []\n",
    "\n",
    "\n",
    "    for _ in tqdm(range(N_SAMP)):\n",
    "        for_votes = 0\n",
    "        against_votes = 0\n",
    "        abstain_votes = 0\n",
    "        for voter in voter_info:\n",
    "            # do they vote at all?\n",
    "            if random.random() > voter['turnout_prob']:\n",
    "                continue\n",
    "\n",
    "            vote = np.random.choice([0,1,2], p=voter['p_vote'])\n",
    "            if vote == 0:\n",
    "                for_votes += voter['vote_weight']\n",
    "            if vote == 1:\n",
    "                against_votes += voter['vote_weight']\n",
    "            if vote == 2:\n",
    "                abstain_votes += voter['vote_weight']\n",
    "\n",
    "        treshold = vote_win_function(total_supply, against_votes, DQ_PARAMS)\n",
    "        outcomes.append(for_votes > treshold)\n",
    "    return np.mean(outcomes)\n",
    "    "
   ]
  },
  {
   "cell_type": "code",
   "execution_count": 27,
   "id": "c503a401-ff31-4b8f-bd44-144f3e0ab64d",
   "metadata": {},
   "outputs": [],
   "source": [
    "def simulate_vev_outcome(\n",
    "    vote_state_counterfactual,\n",
    "    vote_state_vev,\n",
    "    prop_value_eth,\n",
    "    vote_cost_eth\n",
    "):\n",
    "    couterfactual_outcome = simulate_vote_outcome(TOTAL_SUPPLY, vote_state_counterfactual)\n",
    "    vev_outcome = simulate_vote_outcome(TOTAL_SUPPLY, vote_state_counterfactual)\n",
    "    return {\n",
    "        \"win_rate_counterfactual\": couterfactual_outcome, \n",
    "        \"win_rate_vev\": vev_outcome,\n",
    "        \"expected_profit\": prop_value_eth*(vev_outcome - couterfactual_outcome) - vote_cost_eth\n",
    "    }"
   ]
  },
  {
   "cell_type": "code",
   "execution_count": 28,
   "id": "87a81f31-e811-4ede-80b4-9bd1230a08f3",
   "metadata": {},
   "outputs": [
    {
     "name": "stderr",
     "output_type": "stream",
     "text": [
      "100%|██████████| 1000/1000 [00:00<00:00, 13487.25it/s]\n",
      "100%|██████████| 1000/1000 [00:00<00:00, 14052.59it/s]\n"
     ]
    },
    {
     "data": {
      "text/plain": [
       "{'win_rate_counterfactual': 0.439,\n",
       " 'win_rate_vev': 0.449,\n",
       " 'expected_profit': -4.9}"
      ]
     },
     "execution_count": 28,
     "metadata": {},
     "output_type": "execute_result"
    }
   ],
   "source": [
    "simulate_vev_outcome(\n",
    "    vote_state_counterfactual,\n",
    "    vote_state_vev,\n",
    "    PROP_COST_ETH,\n",
    "    TOTAL_VOTE_COST_ETH\n",
    ")"
   ]
  },
  {
   "cell_type": "code",
   "execution_count": null,
   "id": "3ed301da-54bc-4c10-a783-e4d49d0e3d93",
   "metadata": {},
   "outputs": [],
   "source": []
  },
  {
   "cell_type": "code",
   "execution_count": null,
   "id": "945637c6-63ca-437b-9a0d-d4d2b47d66bb",
   "metadata": {},
   "outputs": [],
   "source": []
  }
 ],
 "metadata": {
  "kernelspec": {
   "display_name": "Python 3",
   "language": "python",
   "name": "python3"
  },
  "language_info": {
   "codemirror_mode": {
    "name": "ipython",
    "version": 3
   },
   "file_extension": ".py",
   "mimetype": "text/x-python",
   "name": "python",
   "nbconvert_exporter": "python",
   "pygments_lexer": "ipython3",
   "version": "3.9.2"
  }
 },
 "nbformat": 4,
 "nbformat_minor": 5
}
